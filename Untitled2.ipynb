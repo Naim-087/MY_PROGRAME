{
  "nbformat": 4,
  "nbformat_minor": 0,
  "metadata": {
    "colab": {
      "provenance": [],
      "authorship_tag": "ABX9TyMRpaCaq1phXuqdHhyF0EO9",
      "include_colab_link": true
    },
    "kernelspec": {
      "name": "python3",
      "display_name": "Python 3"
    },
    "language_info": {
      "name": "python"
    }
  },
  "cells": [
    {
      "cell_type": "markdown",
      "metadata": {
        "id": "view-in-github",
        "colab_type": "text"
      },
      "source": [
        "<a href=\"https://colab.research.google.com/github/Naim-087/MY_PROGRAME/blob/main/Untitled2.ipynb\" target=\"_parent\"><img src=\"https://colab.research.google.com/assets/colab-badge.svg\" alt=\"Open In Colab\"/></a>"
      ]
    },
    {
      "cell_type": "code",
      "execution_count": 6,
      "metadata": {
        "colab": {
          "base_uri": "https://localhost:8080/"
        },
        "id": "MdpyJdt7Xqk_",
        "outputId": "44ff6ec6-5170-4f43-9271-50f6a854ddf5"
      },
      "outputs": [
        {
          "output_type": "stream",
          "name": "stdout",
          "text": [
            "hello world\n",
            "myself hello \n",
            "<class 'str'>\n"
          ]
        }
      ],
      "source": [
        "file=open(\"./sample_data/file_python.txt\",\"r\")\n",
        "\n",
        "content=file.read()\n",
        "\n",
        "print(content)\n",
        "print(type(content))"
      ]
    },
    {
      "cell_type": "code",
      "source": [
        "with open(\"./sample_data/file_python.txt\",\"r\") as file:\n",
        "     content=file.readlines()\n",
        "     print(content)\n",
        "\n",
        "\n",
        "print(file.closed)"
      ],
      "metadata": {
        "colab": {
          "base_uri": "https://localhost:8080/"
        },
        "id": "03kT4FSDqmyo",
        "outputId": "11a3eb87-d013-47a9-9e27-300b1fd46423",
        "collapsed": true
      },
      "execution_count": 14,
      "outputs": [
        {
          "output_type": "stream",
          "name": "stdout",
          "text": [
            "['hello world\\n', 'myself hello ']\n",
            "True\n"
          ]
        }
      ]
    },
    {
      "cell_type": "code",
      "source": [],
      "metadata": {
        "id": "7H1PUsnQmz-8"
      },
      "execution_count": null,
      "outputs": []
    },
    {
      "cell_type": "code",
      "source": [
        "file= open(\"./sample_data/file_python.txt\",\"r\")\n",
        "print(file.readlines())\n",
        "file.close()"
      ],
      "metadata": {
        "colab": {
          "base_uri": "https://localhost:8080/"
        },
        "id": "Sp4WiuVAbRS3",
        "outputId": "1fb36fb8-b170-4c77-cba4-e8215011a345"
      },
      "execution_count": 16,
      "outputs": [
        {
          "output_type": "stream",
          "name": "stdout",
          "text": [
            "['hello world\\n', 'myself hello ']\n"
          ]
        }
      ]
    },
    {
      "cell_type": "code",
      "source": [],
      "metadata": {
        "id": "kBtZFvzxmzVA"
      },
      "execution_count": null,
      "outputs": []
    },
    {
      "cell_type": "code",
      "source": [
        "with open(\"./sample_data/file_python.txt\",\"a\") as file:\n",
        "  file.write(\"Now , file has more content\")\n",
        "\n",
        "with open(\"./sample_data/file_python.txt\",\"r\") as file:\n",
        "     print(file.read())\n",
        "\n",
        "print(file.closed)"
      ],
      "metadata": {
        "colab": {
          "base_uri": "https://localhost:8080/"
        },
        "id": "YEfVH3DgbdSK",
        "outputId": "d19001c1-5260-4769-c621-9bae473dd9c2"
      },
      "execution_count": 28,
      "outputs": [
        {
          "output_type": "stream",
          "name": "stdout",
          "text": [
            "Hehee over writtenNow , file has more content\n",
            "True\n"
          ]
        }
      ]
    },
    {
      "cell_type": "code",
      "source": [
        "#for overwritting\n",
        "\n",
        "with open(\"./sample_data/file_python.txt\",\"w\") as file:\n",
        "  file.write(\"Hehee over written\")\n",
        "\n",
        "with open(\"./sample_data/file_python.txt\",\"r\") as file :\n",
        "  print(file.read())\n",
        "print(file.closed)"
      ],
      "metadata": {
        "colab": {
          "base_uri": "https://localhost:8080/"
        },
        "id": "BE3k1QmZeXfX",
        "outputId": "947e138c-ce65-43a4-8a5f-cbeeec198fea"
      },
      "execution_count": 29,
      "outputs": [
        {
          "output_type": "stream",
          "name": "stdout",
          "text": [
            "Hehee over written\n",
            "True\n"
          ]
        }
      ]
    },
    {
      "cell_type": "code",
      "source": [
        "#file pointer in python\n",
        "with open(\"./sample_data/file_python.txt\",\"w\") as file:\n",
        "  file.write(\"Hehee over written\")\n",
        "\n",
        "with open(\"./sample_data/file_python.txt\",\"r\") as file :\n",
        "  print(file.read(3))\n",
        "\n",
        "\n",
        "\n",
        "  print(file.tell())#check the current pos of pointer\n",
        "print(file.closed)\n",
        "\n"
      ],
      "metadata": {
        "colab": {
          "base_uri": "https://localhost:8080/"
        },
        "id": "J_x1_bVBgFx6",
        "outputId": "3ad6932c-bf6e-460f-f910-624ad3e94e2d"
      },
      "execution_count": 30,
      "outputs": [
        {
          "output_type": "stream",
          "name": "stdout",
          "text": [
            "Heh\n",
            "3\n",
            "True\n"
          ]
        }
      ]
    },
    {
      "cell_type": "code",
      "source": [
        "#file pointer\n",
        "with open(\"./sample_data/file_python.txt\",\"a\") as file:\n",
        "  print(file.tell())\n",
        "  file.write(\"Now , file has more content\")\n",
        "\n",
        "with open(\"./sample_data/file_python.txt\",\"r\") as file:\n",
        "     print(file.readlines())\n",
        "with open(\"./sample_data/file_python.txt\",\"r\") as file:\n",
        "    print(file.tell())\n",
        "\n"
      ],
      "metadata": {
        "colab": {
          "base_uri": "https://localhost:8080/"
        },
        "id": "k55kABB6mCuD",
        "outputId": "35ac1629-6a05-4a57-e2b1-8fa108682ad5"
      },
      "execution_count": 44,
      "outputs": [
        {
          "output_type": "stream",
          "name": "stdout",
          "text": [
            "266\n",
            "['Hehee over writtennow we are working with pointer Now , file has more contentNow , file has more contentNow , file has more contentNow , file has more contentNow , file has more contentNow , file has more contentNow , file has more contentNow , file has more contentNow , file has more content']\n",
            "0\n"
          ]
        }
      ]
    },
    {
      "cell_type": "code",
      "source": [],
      "metadata": {
        "id": "ph4ZPucynP1U"
      },
      "execution_count": null,
      "outputs": []
    }
  ]
}